{
 "cells": [
  {
   "cell_type": "code",
   "execution_count": 4,
   "metadata": {},
   "outputs": [
    {
     "data": {
      "text/plain": [
       "{}"
      ]
     },
     "execution_count": 4,
     "metadata": {},
     "output_type": "execute_result"
    }
   ],
   "source": [
    "import cv2\n",
    "import numpy as np\n",
    "import os\n",
    "def calculate_binarized_red_ratio(image_path):\n",
    "    # Load the image\n",
    "    img = cv2.imread(image_path)\n",
    "\n",
    "    # Convert the image to HSV color space\n",
    "    hsv = cv2.cvtColor(img, cv2.COLOR_BGR2HSV)\n",
    "\n",
    "    # Define range for red color in HSV\n",
    "    lower_red = np.array([0, 70, 50])\n",
    "    upper_red = np.array([10, 255, 255])\n",
    "\n",
    "    # Threshold the HSV image to get only red colors\n",
    "    mask = cv2.inRange(hsv, lower_red, upper_red)\n",
    "\n",
    "    # Calculate the ratio of red pixels\n",
    "    ratio = cv2.countNonZero(mask) / (img.size / 3)\n",
    "\n",
    "    return ratio\n",
    "# 使用已经定义的函数来计算新上传图片中二值化红色像素的比例\n",
    "# 获取文件夹中的所有文件名\n",
    "image_folder = 'image'  # 替换为你的图片文件夹路径\n",
    "image_files = os.listdir(image_folder)\n",
    "\n",
    "# 对每个图片文件计算二值化红色像素的比例\n",
    "ratios = {}\n",
    "for image_file in image_files:\n",
    "    image_path = os.path.join(image_folder, image_file)\n",
    "    ratio = calculate_binarized_red_ratio(image_path)\n",
    "    ratios[image_file] = ratio\n",
    "ratios"
   ]
  },
  {
   "cell_type": "code",
   "execution_count": 5,
   "metadata": {},
   "outputs": [
    {
     "data": {
      "text/plain": [
       "{}"
      ]
     },
     "execution_count": 5,
     "metadata": {},
     "output_type": "execute_result"
    }
   ],
   "source": [
    "sorted_ratios = dict(sorted(ratios.items(), key=lambda item: int(item[0].split('.')[0])))\n",
    "sorted_ratios"
   ]
  },
  {
   "cell_type": "code",
   "execution_count": 6,
   "metadata": {},
   "outputs": [],
   "source": [
    "import pandas as pd\n",
    "\n",
    "# Convert the dictionary to a DataFrame\n",
    "df = pd.DataFrame(list(sorted_ratios.items()), columns=['Image', 'Ratio'])\n",
    "\n",
    "# Save the DataFrame to a csv file\n",
    "df.to_csv('sorted_ratios.csv', index=False)"
   ]
  }
 ],
 "metadata": {
  "kernelspec": {
   "display_name": "Python 3",
   "language": "python",
   "name": "python3"
  },
  "language_info": {
   "codemirror_mode": {
    "name": "ipython",
    "version": 3
   },
   "file_extension": ".py",
   "mimetype": "text/x-python",
   "name": "python",
   "nbconvert_exporter": "python",
   "pygments_lexer": "ipython3",
   "version": "3.12.2"
  }
 },
 "nbformat": 4,
 "nbformat_minor": 2
}
